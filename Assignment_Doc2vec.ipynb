{
  "nbformat": 4,
  "nbformat_minor": 5,
  "metadata": {
    "kernelspec": {
      "display_name": "Python 3",
      "language": "python",
      "name": "python3"
    },
    "language_info": {
      "codemirror_mode": {
        "name": "ipython",
        "version": 3
      },
      "file_extension": ".py",
      "mimetype": "text/x-python",
      "name": "python",
      "nbconvert_exporter": "python",
      "pygments_lexer": "ipython3",
      "version": "3.8.8"
    },
    "colab": {
      "name": "Assignment_Doc2vec.ipynb",
      "provenance": [],
      "collapsed_sections": []
    }
  },
  "cells": [
    {
      "cell_type": "code",
      "metadata": {
        "colab": {
          "base_uri": "https://localhost:8080/"
        },
        "id": "V0gwAr1IcyqN",
        "outputId": "a46f1c95-3e4f-43c8-8577-e022c112ecf8"
      },
      "source": [
        "import pandas as pd\n",
        "import numpy as np\n",
        "from tqdm import tqdm\n",
        "tqdm.pandas(desc=\"progress-bar\")\n",
        "from gensim.models import Doc2Vec\n",
        "from sklearn import utils\n",
        "from sklearn.model_selection import train_test_split\n",
        "import gensim\n",
        "from sklearn.linear_model import LogisticRegression\n",
        "from gensim.models.doc2vec import TaggedDocument\n",
        "import re\n",
        "import seaborn as sns\n",
        "import matplotlib.pyplot as plt\n",
        "from copy import deepcopy\n",
        "from sklearn.manifold import TSNE\n",
        "\n",
        "import nltk\n",
        "nltk.download('punkt')"
      ],
      "id": "V0gwAr1IcyqN",
      "execution_count": 21,
      "outputs": [
        {
          "output_type": "stream",
          "text": [
            "[nltk_data] Downloading package punkt to /root/nltk_data...\n",
            "[nltk_data]   Package punkt is already up-to-date!\n"
          ],
          "name": "stdout"
        },
        {
          "output_type": "stream",
          "text": [
            "/usr/local/lib/python3.7/dist-packages/tqdm/std.py:658: FutureWarning: The Panel class is removed from pandas. Accessing it from the top-level namespace will also be removed in the next version\n",
            "  from pandas import Panel\n"
          ],
          "name": "stderr"
        },
        {
          "output_type": "execute_result",
          "data": {
            "text/plain": [
              "True"
            ]
          },
          "metadata": {
            "tags": []
          },
          "execution_count": 21
        }
      ]
    },
    {
      "cell_type": "code",
      "metadata": {
        "id": "a88f716c"
      },
      "source": [
        "df = pd.read_csv('IMDB Dataset.csv')\n",
        "df=df[:2500]\n",
        "df.head(10)\n",
        "\n",
        "df.sentiment.replace('positive',1,inplace=True)\n",
        "df.sentiment.replace('negative',0,inplace=True)\n",
        "\n",
        "#Remove HTML tags\n",
        "def clean(text):\n",
        "    cleaned = re.compile(r'<.*?>')\n",
        "    return re.sub(cleaned,'',text)\n",
        "\n",
        "df.review = df.review.apply(clean)\n"
      ],
      "id": "a88f716c",
      "execution_count": 22,
      "outputs": []
    },
    {
      "cell_type": "code",
      "metadata": {
        "id": "744a607e",
        "colab": {
          "base_uri": "https://localhost:8080/"
        },
        "outputId": "487966a6-b460-4002-bd59-7c77e7024cce"
      },
      "source": [
        "df.shape\n"
      ],
      "id": "744a607e",
      "execution_count": 23,
      "outputs": [
        {
          "output_type": "execute_result",
          "data": {
            "text/plain": [
              "(2500, 2)"
            ]
          },
          "metadata": {
            "tags": []
          },
          "execution_count": 23
        }
      ]
    },
    {
      "cell_type": "code",
      "metadata": {
        "id": "756398ff",
        "colab": {
          "base_uri": "https://localhost:8080/"
        },
        "outputId": "01900e8c-f707-4dfa-b45a-d4391138b8fb"
      },
      "source": [
        "df.index = range(2500)\n",
        "\n",
        "df['review'].apply(lambda x: len(x.split(' '))).sum()\n"
      ],
      "id": "756398ff",
      "execution_count": 24,
      "outputs": [
        {
          "output_type": "execute_result",
          "data": {
            "text/plain": [
              "558966"
            ]
          },
          "metadata": {
            "tags": []
          },
          "execution_count": 24
        }
      ]
    },
    {
      "cell_type": "code",
      "metadata": {
        "id": "b8c7169f"
      },
      "source": [
        "from bs4 import BeautifulSoup\n",
        "def cleanText(text):\n",
        "    text = BeautifulSoup(text, \"lxml\").text\n",
        "    text = re.sub(r'\\|\\|\\|', r' ', text) \n",
        "    text = re.sub(r'http\\S+', r'<URL>', text)\n",
        "    text = text.lower()\n",
        "    text = text.replace('x', '')\n",
        "    return text\n",
        "df['review'] = df['review'].apply(cleanText)"
      ],
      "id": "b8c7169f",
      "execution_count": 25,
      "outputs": []
    },
    {
      "cell_type": "code",
      "metadata": {
        "id": "ee905045"
      },
      "source": [
        "train, test = train_test_split(df, test_size=0.3, random_state=42)\n",
        "import nltk\n",
        "from nltk.corpus import stopwords\n",
        "def tokenize_text(text):\n",
        "    tokens = []\n",
        "    for sent in nltk.sent_tokenize(text):\n",
        "        for word in nltk.word_tokenize(sent):\n",
        "            if len(word) < 2:\n",
        "                continue\n",
        "            tokens.append(word.lower())\n",
        "    return tokens\n",
        "train_tagged = train.apply(\n",
        "    lambda r: TaggedDocument(words=tokenize_text(r['review']), tags=[r.sentiment]), axis=1)\n",
        "test_tagged = test.apply(\n",
        "    lambda r: TaggedDocument(words=tokenize_text(r['review']), tags=[r.sentiment]), axis=1)"
      ],
      "id": "ee905045",
      "execution_count": 26,
      "outputs": []
    },
    {
      "cell_type": "code",
      "metadata": {
        "id": "1846dda5",
        "colab": {
          "base_uri": "https://localhost:8080/"
        },
        "outputId": "4a4d8ffc-f99c-435c-c3d5-aa54ffe5115d"
      },
      "source": [
        "train_tagged.values[30]\n"
      ],
      "id": "1846dda5",
      "execution_count": 27,
      "outputs": [
        {
          "output_type": "execute_result",
          "data": {
            "text/plain": [
              "TaggedDocument(words=['saw', 'this', 'movie', 'with', 'friend', 'who', 'ran', 'marathon', 'with', 'me', 'and', 'we', 'both', 'had', 'the', 'same', 'feeling', 'about', 'it', 'it', 'was', \"n't\", 'terribly', 'motivating', 'and', 'did', \"n't\", 'even', 'broach', 'the', 'idea', 'of', 'what', 'training', 'schedule', 'would', 'look', 'like', 'so', 'that', 'non-marathoners', 'could', 'have', 'an', 'idea', 'of', 'what', 'it', 'would', 'take', 'for', 'them', 'to', 'train', 'and', 'run', 'one', 'in', 'fact', 'there', 'was', 'almost', 'zero', 'technical', 'information', 'at', 'all', 'did', \"n't\", 'epect', 'this', 'to', 'be', 'tech-heavy', 'instructional', 'video', 'but', 'when', 'that', 'info', 'was', 'near', 'zero', 'then', 'the', 'film', 'just', 'was', \"n't\", 'balanced', 'and', 'was', \"n't\", 'particularly', 'useful', 'to', 'non-marathoners', 'contemplating', 'their', 'first', 'run.there', 'were', 'other', 'problems', 'some', 'of', 'the', 'very', 'first', 'images', 'were', 'people', 'collapsing', 'near', 'death', 'while', 'trying', 'to', 'run', 'race', 'yeah', 'real', 'inspiring', 'the', 'timing', 'was', 'also', 'hard', 'to', 'follow', 'because', 'it', 'was', 'semi', 'chronological', 'but', 'the', 'filmmakers', 'rarely', 'gave', 'you', 'any', 'good', 'clues', 'as', 'to', 'what', 'point', 'in', 'time', 'you', 'were', 'looking', 'at', 'and', 'they', 'withheld', 'information', 'you', 'see', 'that', 'kantor', 'has', 'an', 'injury', 'and', 'you', 'just', 'assume', 'it', \"'s\", 'from', 'all', 'her', 'training', 'but', 'then', 'several', 'scenes', 'later', 'they', 'finally', 'clue', 'you', 'in', 'that', 'it', \"'s\", 'because', 'she', 'tripped', 'over', 'pine', 'cone', 'in', 'her', 'yard.some', 'parts', 'were', 'very', 'good', 'though', 'like', 'the', 'bit', 'about', 'woman', 'defying', 'race', 'officials', 'who', 'wanted', 'the', 'run', 'to', 'be', 'men-only', 'and', 'the', 'coverage', 'of', 'chicago', 'race', 'where', 'two', 'of', 'the', 'runners', 'portrayed', 'earlier', 'were', 'vying', 'for', 'first', 'place.off', 'the', 'top', 'of', 'my', 'head', \"'m\", 'thinking', 'of', 'other', 'chronological', 'documentaries', 'like', 'supersize', 'me', 'and', 'grass', 'where', 'you', 'always', 'know', 'where', 'you', 'are', 'and', 'you', 'feel', 'like', 'they', 'told', 'you', 'everything', 'you', 'wanted', 'to', 'know.in', 'short', 'it', 'would', \"n't\", 'have', 'been', 'hard', 'to', 'make', 'better', 'marathon', 'film', 'and', 'as', 'it', 'stands', 'ca', \"n't\", 'recommend', 'this', 'to', 'non-marathoners', 'to', 'educate', 'and', 'motivate', 'them', 'to', 'try', 'one', 'because', 'do', \"n't\", 'think', 'it', 'will', 'have', 'that', 'effect'], tags=[0])"
            ]
          },
          "metadata": {
            "tags": []
          },
          "execution_count": 27
        }
      ]
    },
    {
      "cell_type": "code",
      "metadata": {
        "id": "53879bec",
        "colab": {
          "base_uri": "https://localhost:8080/"
        },
        "outputId": "7603a1ee-c73c-4533-b393-7aebd4e1aa3b"
      },
      "source": [
        "import multiprocessing\n",
        "cores = multiprocessing.cpu_count()\n",
        "model_dbow = Doc2Vec(dm=0, vector_size=300, negative=5, hs=0, min_count=2, sample = 0, workers=cores)\n",
        "model_dbow.build_vocab([x for x in tqdm(train_tagged.values)])"
      ],
      "id": "53879bec",
      "execution_count": 28,
      "outputs": [
        {
          "output_type": "stream",
          "text": [
            "100%|██████████| 1750/1750 [00:00<00:00, 261016.04it/s]\n"
          ],
          "name": "stderr"
        }
      ]
    },
    {
      "cell_type": "code",
      "metadata": {
        "id": "1124bd32",
        "colab": {
          "base_uri": "https://localhost:8080/"
        },
        "outputId": "7fed6765-82ad-4cca-8afc-74c21efbb010"
      },
      "source": [
        "%%time\n",
        "for epoch in range(3):\n",
        "    model_dbow.train(utils.shuffle([x for x in tqdm(train_tagged.values)]), total_examples=len(train_tagged.values), epochs=1)\n",
        "    model_dbow.alpha -= 0.002\n",
        "    model_dbow.min_alpha = model_dbow.alpha"
      ],
      "id": "1124bd32",
      "execution_count": 29,
      "outputs": [
        {
          "output_type": "stream",
          "text": [
            "100%|██████████| 1750/1750 [00:00<00:00, 1063310.44it/s]\n",
            "100%|██████████| 1750/1750 [00:00<00:00, 1699081.48it/s]\n",
            "100%|██████████| 1750/1750 [00:00<00:00, 470907.29it/s]\n"
          ],
          "name": "stderr"
        },
        {
          "output_type": "stream",
          "text": [
            "CPU times: user 4.06 s, sys: 48.1 ms, total: 4.11 s\n",
            "Wall time: 2.26 s\n"
          ],
          "name": "stdout"
        }
      ]
    },
    {
      "cell_type": "code",
      "metadata": {
        "id": "10d09c7a"
      },
      "source": [
        "def vec_for_learning(model, tagged_docs):\n",
        "    sents = tagged_docs.values\n",
        "    targets, regressors = zip(*[(doc.tags[0], model.infer_vector(doc.words, steps=20)) for doc in sents])\n",
        "    return targets, regressors"
      ],
      "id": "10d09c7a",
      "execution_count": 30,
      "outputs": []
    },
    {
      "cell_type": "code",
      "metadata": {
        "id": "1359a187"
      },
      "source": [
        "trainy, trainx = vec_for_learning(model_dbow, train_tagged)\n",
        "testy, testx = vec_for_learning(model_dbow, test_tagged)\n"
      ],
      "id": "1359a187",
      "execution_count": 31,
      "outputs": []
    },
    {
      "cell_type": "code",
      "metadata": {
        "id": "Jim2ti2iDsJP"
      },
      "source": [
        "def tsne_plot(model):\n",
        "    \"Creates and TSNE model and plots it\"\n",
        "    labels = []\n",
        "    tokens = []\n",
        "\n",
        "    for word in model.wv.vocab:\n",
        "        tokens.append(model[word])\n",
        "        labels.append(word)\n",
        "    \n",
        "    tsne_model = TSNE(perplexity=40, n_components=2, init='pca', n_iter=2500, random_state=23)\n",
        "    new_values = tsne_model.fit_transform(tokens)\n",
        "\n",
        "    x = []\n",
        "    y = []\n",
        "    for value in new_values[:50]:\n",
        "        x.append(value[0])\n",
        "        y.append(value[1])\n",
        "    plt.figure(figsize=(16, 16)) \n",
        "    for i in range(len(x)):\n",
        "        plt.scatter(x[i],y[i])\n",
        "        plt.annotate(labels[i],\n",
        "                     xy=(x[i], y[i]),\n",
        "                     xytext=(5, 2),\n",
        "                     textcoords='offset points',\n",
        "                     ha='right',\n",
        "                     va='bottom')\n",
        "    plt.show()"
      ],
      "id": "Jim2ti2iDsJP",
      "execution_count": 32,
      "outputs": []
    },
    {
      "cell_type": "code",
      "metadata": {
        "colab": {
          "base_uri": "https://localhost:8080/",
          "height": 918
        },
        "id": "AgfMEVXoKnaO",
        "outputId": "68400667-743c-491f-cfa9-c68f12ef5cd9"
      },
      "source": [
        "#plotting 50 vocab\n",
        "tsne_plot(model_dbow)"
      ],
      "id": "AgfMEVXoKnaO",
      "execution_count": 33,
      "outputs": [
        {
          "output_type": "display_data",
          "data": {
            "image/png": "[encoded data removed]",
            "text/plain": [
              "<Figure size 1152x1152 with 1 Axes>"
            ]
          },
          "metadata": {
            "tags": [],
            "needs_background": "light"
          }
        }
      ]
    },
    {
      "cell_type": "code",
      "metadata": {
        "colab": {
          "base_uri": "https://localhost:8080/"
        },
        "id": "77qQ8dz1iNTB",
        "outputId": "a56d4221-84cb-48a2-aa86-bb44345d4b5e"
      },
      "source": [
        "testx[1].shape"
      ],
      "id": "77qQ8dz1iNTB",
      "execution_count": 34,
      "outputs": [
        {
          "output_type": "execute_result",
          "data": {
            "text/plain": [
              "(300,)"
            ]
          },
          "metadata": {
            "tags": []
          },
          "execution_count": 34
        }
      ]
    },
    {
      "cell_type": "code",
      "metadata": {
        "id": "ac3f5ce8"
      },
      "source": [
        "from sklearn.naive_bayes import GaussianNB,MultinomialNB,BernoulliNB\n",
        "from sklearn.metrics import accuracy_score\n",
        "from sklearn import tree\n",
        "from sklearn.ensemble import RandomForestClassifier\n",
        "from sklearn import svm\n"
      ],
      "id": "ac3f5ce8",
      "execution_count": 35,
      "outputs": []
    },
    {
      "cell_type": "code",
      "metadata": {
        "id": "2feb8e7c",
        "colab": {
          "base_uri": "https://localhost:8080/"
        },
        "outputId": "4d4ff9d3-6310-41dc-af3a-23273a101156"
      },
      "source": [
        "gnb,bnb = GaussianNB(),BernoulliNB(alpha=1.0,fit_prior=True)\n",
        "tree_clf = tree.DecisionTreeClassifier()\n",
        "rf_clf = RandomForestClassifier(max_depth=2, random_state=0)\n",
        "svm_clf = svm.SVC()\n",
        "\n",
        "gnb.fit(trainx,trainy)\n",
        "bnb.fit(trainx,trainy)\n",
        "tree_clf.fit(trainx,trainy)\n",
        "rf_clf.fit(trainx,trainy)\n",
        "svm_clf.fit(trainx,trainy)\n",
        "\n",
        "    #Prediction and accuracy metrics to choose best model\n",
        "ypg = gnb.predict(testx)\n",
        "ypb = bnb.predict(testx)\n",
        "ypt = tree_clf.predict(testx)\n",
        "ypr = rf_clf.predict(testx)\n",
        "yps = svm_clf.predict(testx)\n",
        "print(\"Gaussian = \",accuracy_score(testy,ypg))\n",
        "print(\"Bernoulli = \",accuracy_score(testy,ypb))\n",
        "print(\"Tree = \",accuracy_score(testy,ypt))\n",
        "print(\"RandomForest = \",accuracy_score(testy,ypr))\n",
        "print(\"SVM = \",accuracy_score(testy,yps))\n"
      ],
      "id": "2feb8e7c",
      "execution_count": 36,
      "outputs": [
        {
          "output_type": "stream",
          "text": [
            "Gaussian =  0.804\n",
            "Bernoulli =  0.8\n",
            "Tree =  0.76\n",
            "RandomForest =  0.8093333333333333\n",
            "SVM =  0.8106666666666666\n"
          ],
          "name": "stdout"
        }
      ]
    },
    {
      "cell_type": "code",
      "metadata": {
        "id": "c3e8eaf8"
      },
      "source": [
        "def plot_svm(clf,df,Name):\n",
        "    \n",
        "  bow_pca = PCA(n_components=2)\n",
        "  BowComponents = bow_pca.fit_transform(df)\n",
        "  # trainx,testx,trainy,testyy = train_test_split(BowComponents,testy,test_size=0.2,random_state=9)\n",
        "\n",
        "  svm_clf = svm.SVC()\n",
        "\n",
        "  svm_pca=clf.fit(BowComponents,testy)\n",
        "\n",
        "  h = .02 \n",
        "  x_min, x_max = BowComponents[:, 0].min() - 1, BowComponents[:, 0].max() + 1\n",
        "  y_min, y_max = BowComponents[:, 1].min() - 1, BowComponents[:, 1].max() + 1\n",
        "  xx, yy = np.meshgrid(np.arange(x_min, x_max, h),\n",
        "                      np.arange(y_min, y_max, h))\n",
        "\n",
        "  titles = f\"2{Name} component PCA\"\n",
        "  plt.subplot()\n",
        "  Z = svm_pca.predict(np.c_[xx.ravel(), yy.ravel()])\n",
        "  Z = Z.reshape(xx.shape)\n",
        "  plt.contourf(xx, yy, Z, cmap=plt.cm.coolwarm, alpha=0.8)\n",
        "  plt.scatter(BowComponents[:, 0], BowComponents[:, 1], c=testy, cmap=plt.cm.coolwarm)\n",
        "  plt.xlabel('PCA component 0')\n",
        "  plt.ylabel('PCA component 1')\n",
        "  plt.xlim(xx.min(), xx.max())\n",
        "  plt.ylim(yy.min(), yy.max())\n",
        "  plt.xticks(())\n",
        "  plt.yticks(())\n",
        "  plt.title(titles)\n",
        "\n",
        "  plt.show()"
      ],
      "id": "c3e8eaf8",
      "execution_count": 37,
      "outputs": []
    },
    {
      "cell_type": "code",
      "metadata": {
        "id": "7c8fec00",
        "colab": {
          "base_uri": "https://localhost:8080/",
          "height": 278
        },
        "outputId": "3b4ca22f-7823-4af4-e754-b97d07768da2"
      },
      "source": [
        "from sklearn.decomposition import PCA\n",
        "\n",
        "plot_svm(svm_clf,testx,\"doc2vec\")\n"
      ],
      "id": "7c8fec00",
      "execution_count": 38,
      "outputs": [
        {
          "output_type": "display_data",
          "data": {
            "image/png": "[encoded data removed]",
            "text/plain": [
              "<Figure size 432x288 with 1 Axes>"
            ]
          },
          "metadata": {
            "tags": []
          }
        }
      ]
    },
    {
      "cell_type": "code",
      "metadata": {
        "id": "YgERwfUpLx5X"
      },
      "source": [
        "\n",
        "from sklearn.cluster import KMeans\n",
        "from sklearn.cluster import AgglomerativeClustering\n",
        "def clustering(X,y,Name):\n",
        "    \n",
        "    modelkmeans = KMeans(n_clusters=2)\n",
        "    modelkmeans.fit(X)\n",
        "    kmeanspred = modelkmeans.fit_predict(X)\n",
        "    c=0\n",
        "    for i in range(len(y)):\n",
        "        if y[i]==kmeanspred[i]:\n",
        "            c+=1\n",
        "    print(\"Kmeans = \",max(c/len(y),1-c/len(y))*100)\n",
        "\n",
        "    aclustering = AgglomerativeClustering(n_clusters=2, affinity = 'euclidean', linkage = 'ward')\n",
        "    aclusteringpred = aclustering.fit_predict(X)\n",
        "    c=0\n",
        "    for i in range(len(y)):\n",
        "        if y[i]==aclusteringpred[i]:\n",
        "            c+=1\n",
        "    print(\"AClustering = \",max(c/len(y),1-c/len(y))*100)\n",
        "    return modelkmeans,aclustering\n"
      ],
      "id": "YgERwfUpLx5X",
      "execution_count": 39,
      "outputs": []
    },
    {
      "cell_type": "code",
      "metadata": {
        "id": "NTpSz5T8jOO-",
        "colab": {
          "base_uri": "https://localhost:8080/"
        },
        "outputId": "36a9f00d-67c6-4473-aa53-c0eb6ca37764"
      },
      "source": [
        "doc_kmeans,doc_aclus=clustering(trainx,trainy,\"Doc2vec\")"
      ],
      "id": "NTpSz5T8jOO-",
      "execution_count": 40,
      "outputs": [
        {
          "output_type": "stream",
          "text": [
            "Kmeans =  89.08571428571429\n",
            "AClustering =  84.22857142857143\n"
          ],
          "name": "stdout"
        }
      ]
    },
    {
      "cell_type": "code",
      "metadata": {
        "colab": {
          "base_uri": "https://localhost:8080/"
        },
        "id": "hKWpezfmSWVc",
        "outputId": "f8dad4ce-22d6-4f07-bede-1f5db476c2c5"
      },
      "source": [
        "predictions = doc_aclus.fit_predict(testx)\n",
        "accuracy_score(testy,predictions)"
      ],
      "id": "hKWpezfmSWVc",
      "execution_count": 59,
      "outputs": [
        {
          "output_type": "execute_result",
          "data": {
            "text/plain": [
              "0.292"
            ]
          },
          "metadata": {
            "tags": []
          },
          "execution_count": 59
        }
      ]
    },
    {
      "cell_type": "markdown",
      "metadata": {
        "id": "HD0mKP7SVtdu"
      },
      "source": [
        "#The accuracy of AgglomerativeClustering is (1-0.292 = 70.8), because of the interchanged clusters"
      ],
      "id": "HD0mKP7SVtdu"
    },
    {
      "cell_type": "code",
      "metadata": {
        "colab": {
          "base_uri": "https://localhost:8080/"
        },
        "id": "zOefQwPMSajw",
        "outputId": "f0c3a1f6-0a28-44ff-a7eb-6c0fca7e0a5c"
      },
      "source": [
        "predictions = doc_kmeans.predict(testx)\n",
        "accuracy_score(testy,predictions)"
      ],
      "id": "zOefQwPMSajw",
      "execution_count": 54,
      "outputs": [
        {
          "output_type": "execute_result",
          "data": {
            "text/plain": [
              "0.8026666666666666"
            ]
          },
          "metadata": {
            "tags": []
          },
          "execution_count": 54
        }
      ]
    },
    {
      "cell_type": "code",
      "metadata": {
        "id": "LJI_phkgM5Wn"
      },
      "source": [
        "from sklearn.preprocessing import LabelEncoder\n",
        "labelencoder_y = LabelEncoder()\n",
        "trainy=labelencoder_y.fit_transform(trainy)\n",
        "      "
      ],
      "id": "LJI_phkgM5Wn",
      "execution_count": 41,
      "outputs": []
    },
    {
      "cell_type": "code",
      "metadata": {
        "id": "GUL8vOWHMJOV"
      },
      "source": [
        "def kmeans_plot(kmeans_modelg,df,featurename):\n",
        "  bow_pca = PCA(n_components=2)\n",
        "  BowComponents = bow_pca.fit_transform(df)\n",
        "  BowDf = pd.DataFrame(data = BowComponents, columns = [f\"{featurename} component 1\",f\"{featurename} component 2\"])\n",
        "  bow_centers = bow_pca.transform(kmeans_modelg.cluster_centers_)\n",
        "\n",
        "  n = BowComponents.shape[0]\n",
        "  centers_old = np.zeros(bow_centers.shape) # to store old centers\n",
        "  centers_new = deepcopy(bow_centers)\n",
        "\n",
        "  clusters = np.zeros(n)\n",
        "  distances = np.zeros((n,2))\n",
        "\n",
        "  error = np.linalg.norm(centers_new - centers_old)\n",
        "\n",
        "  while error != 0:\n",
        "      # Measure the distance to every center\n",
        "      for i in range(2):\n",
        "          distances[:,i] = np.linalg.norm(BowComponents - bow_centers[i], axis=1)\n",
        "      # Assign all training data to closest center\n",
        "      clusters = np.argmin(distances, axis = 1)\n",
        "      centers_old = deepcopy(centers_new)\n",
        "      # Calculate mean for every cluster and update the center\n",
        "      for i in range(2):\n",
        "          centers_new[i] = np.mean(BowComponents[clusters == i], axis=0)\n",
        "      error = np.linalg.norm(centers_new - centers_old)\n",
        "  centers_new \n",
        "  centers_new = centers_new\n",
        "\n",
        "  fig = plt.figure(figsize = (8,8))\n",
        "  ax = fig.add_subplot(1,1,1)\n",
        "  ax.set_xlabel(f'{featurename} Component 1', fontsize = 10)\n",
        "  ax.set_ylabel(f'{featurename} Component 2', fontsize = 10)\n",
        "  ax.set_title(f\"2{featurename} component PCA\", fontsize = 15)\n",
        "\n",
        "  colors = ['y', 'r']  \n",
        "  for color, i, target_name in zip(colors, [0, 1], [\"Negative\",\"Postive\"]):\n",
        "      ax.scatter(BowComponents[trainy == i, 0], BowComponents[trainy == i, 1], alpha=.8, color=color,\n",
        "                  label=target_name, s = 10)\n",
        "  ax.legend(loc='best', shadow=False, scatterpoints=1)\n",
        "  ax.scatter(centers_new[:,0], centers_new[:,1], marker='*', c='k', label = 'centroid', s=150)\n",
        "  ax.grid()\n",
        "\n",
        "\n",
        "\n"
      ],
      "id": "GUL8vOWHMJOV",
      "execution_count": 42,
      "outputs": []
    },
    {
      "cell_type": "code",
      "metadata": {
        "colab": {
          "base_uri": "https://localhost:8080/",
          "height": 515
        },
        "id": "UDTc8BDmMtx9",
        "outputId": "76f74736-7e59-46bc-bf5c-c80dfadda99c"
      },
      "source": [
        "kmeans_plot(doc_kmeans,trainx,\"DOC2Vec\")"
      ],
      "id": "UDTc8BDmMtx9",
      "execution_count": 43,
      "outputs": [
        {
          "output_type": "display_data",
          "data": {
            "image/png": "[encoded data removed]",
            "text/plain": [
              "<Figure size 576x576 with 1 Axes>"
            ]
          },
          "metadata": {
            "tags": [],
            "needs_background": "light"
          }
        }
      ]
    },
    {
      "cell_type": "code",
      "metadata": {
        "id": "ZZW1DQNMUoLy"
      },
      "source": [
        " \n",
        "from sklearn.metrics import silhouette_score\n",
        "from sklearn.metrics import cohen_kappa_score\n",
        "kappa_tf_kmeans=cohen_kappa_score(doc_kmeans.predict(trainx), trainy)\n",
        "kappa_agg_tf=cohen_kappa_score(doc_aclus.fit_predict(trainx), trainy)\n",
        "silhouette_bow_kmeans = (silhouette_score(trainx, doc_kmeans.predict(trainx), metric='euclidean'))\n",
        "silhouette_agg_bow = (silhouette_score(trainx, doc_aclus.fit_predict(trainx), metric='euclidean'))"
      ],
      "id": "ZZW1DQNMUoLy",
      "execution_count": 44,
      "outputs": []
    },
    {
      "cell_type": "code",
      "metadata": {
        "colab": {
          "base_uri": "https://localhost:8080/"
        },
        "id": "SuPQA0zgXQp5",
        "outputId": "2d3a0e84-d925-4217-cc2e-7ca59b640037"
      },
      "source": [
        "print(kappa_agg_tf)\n",
        "print(kappa_tf_kmeans)\n",
        "print(silhouette_bow_kmeans)\n",
        "print(silhouette_agg_bow)"
      ],
      "id": "SuPQA0zgXQp5",
      "execution_count": 45,
      "outputs": [
        {
          "output_type": "stream",
          "text": [
            "0.6862238633573137\n",
            "0.7817502033950984\n",
            "0.5783384\n",
            "0.548675\n"
          ],
          "name": "stdout"
        }
      ]
    },
    {
      "cell_type": "code",
      "metadata": {
        "id": "vhOEdOd9gN-E"
      },
      "source": [
        "def test(rev):\n",
        "    f1 = clean(rev)\n",
        "    f2 = cleanText(f1)\n",
        "    f3 = tokenize_text(f2)\n",
        "    f4_d2v = model_dbow.infer_vector(f3, steps=20)\n",
        "    kmeanspred = doc_kmeans.predict([f4_d2v])\n",
        "    return kmeanspred[0]"
      ],
      "id": "vhOEdOd9gN-E",
      "execution_count": 56,
      "outputs": []
    },
    {
      "cell_type": "code",
      "metadata": {
        "colab": {
          "base_uri": "https://localhost:8080/"
        },
        "id": "II9eMzx8hGAD",
        "outputId": "a226db82-748d-4fba-b564-4f7a3b2fbf12"
      },
      "source": [
        "test(\"not bad\")"
      ],
      "id": "II9eMzx8hGAD",
      "execution_count": 60,
      "outputs": [
        {
          "output_type": "execute_result",
          "data": {
            "text/plain": [
              "1"
            ]
          },
          "metadata": {
            "tags": []
          },
          "execution_count": 60
        }
      ]
    },
    {
      "cell_type": "code",
      "metadata": {
        "id": "1CjajCVJtt3X"
      },
      "source": [
        "import pickle\n",
        "with open(r'mrkmeans.pkl','wb') as model_pkl:\n",
        "    pickle.dump(doc_kmeans, model_pkl, protocol=2)"
      ],
      "id": "1CjajCVJtt3X",
      "execution_count": 48,
      "outputs": []
    }
  ]
}